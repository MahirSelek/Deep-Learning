{
 "cells": [
  {
   "cell_type": "markdown",
   "metadata": {
    "id": "raUKrVPW0SO1"
   },
   "source": [
    "# Supervised Learning\n",
    "\n",
    "## Deep Learning: Classification and Overfitting\n",
    "---"
   ]
  },
  {
   "cell_type": "markdown",
   "metadata": {
    "id": "QUc9frYnVBI_"
   },
   "source": [
    "**Project : Optimize, Regularize and Train Deep Models**\n",
    "---\n",
    "\n",
    "In this project, we will explore how to develop a simple Deep Neural Network for a classification problem. We will explore two common libraries: TensorFlow and Keras.\n",
    "Then we will explore how to face a well known problem that is common to encounter during the training phase: the Overfitting.\n",
    "Finally, we will study how to perform a fair model selection.\n",
    "Hint: Before starting the project take a look at how Tensorflow and Keras are designed.  https://keras.io/"
   ]
  },
  {
   "cell_type": "markdown",
   "metadata": {
    "id": "e-Nc7mFSVEiU"
   },
   "source": [
    "## Exercise 1: Text Classficiation with Tensorflow and Keras\n",
    "\n",
    "In this first exercise we will develop a 3 layers Neural Network to perfrom classification.\n",
    "\n",
    "Let's start importing the libraries we will need and setting a couple of environmental variables.\n"
   ]
  },
  {
   "cell_type": "code",
   "execution_count": 7,
   "metadata": {
    "id": "bWn9FzneVqJo"
   },
   "outputs": [],
   "source": [
    "import matplotlib as mpl\n",
    "import matplotlib.pyplot as plt\n",
    "import numpy as np\n",
    "import os\n",
    "import pandas as pd\n",
    "import sklearn\n",
    "import sys\n",
    "import tensorflow as tf\n",
    "from tensorflow import keras  # tf.keras\n",
    "import tensorflow_datasets as tfds\n",
    "import time\n",
    "\n",
    "import logging\n",
    "logging.disable(logging.WARNING)\n",
    "os.environ[\"TF_CPP_MIN_LOG_LEVEL\"] = \"3\" \n",
    "\n",
    "tf.random.set_seed(42)\n",
    "# os.environ['TF_DETERMINISTIC_OPS']='1'"
   ]
  },
  {
   "cell_type": "markdown",
   "metadata": {
    "id": "LT2HMYDEXcx0"
   },
   "source": [
    "### Load Data: AG News Subset\n",
    "\n",
    "In this project, we use the AG News Subset that is available in Tensorflow Dataset. The AG's news topic classification dataset is constructed by choosing the 4 largest topic classes from a larger news corpus. The total number of training samples is 120,000 and testing 7,600. Each class contains 30,000 training samples and 1,900 testing samples. Each sample contains both the title and an excerpt of the article, but in this exercise we will use only the excerpt as input.\n",
    "\n",
    "We will split the training set into two 90%-10% splits in order to have a validation set."
   ]
  },
  {
   "cell_type": "code",
   "execution_count": 8,
   "metadata": {
    "id": "d8xZASzs26zD"
   },
   "outputs": [],
   "source": [
    "### NOTE ### \n",
    "# running this cell might yield download-related errors.\n",
    "# just repeating the execution a couple of times should solve the error.\n",
    "\n",
    "train_ds, valid_ds, test_ds = tfds.load('ag_news_subset',\n",
    "                                        as_supervised=True, # return a set of (text, label) tuples \n",
    "                                        split=['train[:90%]', 'train[-10%:]', 'test'],\n",
    "                                        batch_size=-1)  \n",
    "                                        # ^ using batch_size=-1 returns Tensors instead of Dataset objects"
   ]
  },
  {
   "cell_type": "code",
   "execution_count": 9,
   "metadata": {
    "id": "BYkXCTv3NrvC"
   },
   "outputs": [],
   "source": [
    "# Tensors have two elements, data and labels; let's split them\n",
    "# so we can transform the data\n",
    "X_train, y_train = train_ds\n",
    "X_valid, y_valid = valid_ds\n",
    "X_test, y_test = test_ds"
   ]
  },
  {
   "cell_type": "markdown",
   "metadata": {
    "id": "8prUBtqq8JW7"
   },
   "source": [
    "The AG News Subset dataset consists in news articles, each one composed by a sequence of words. In order to encode each article in a single tensor with a fixed number of elements, we will use multi-hot encoding. For testing purposes, we will only consider the first 10,000  most common words. Multi-hot-encoding our lists means turning them into vectors of 0s and 1s. Concretely, this would mean for instance turning the sequence [3, 5] into a 10,000-dimensional vector that would be all-zeros except for indices 3 and 5, which would be ones. The obtained input representation indicates which words are present (at least one time) in the sentence."
   ]
  },
  {
   "cell_type": "code",
   "execution_count": 10,
   "metadata": {
    "id": "Brt087tDIDpe"
   },
   "outputs": [],
   "source": [
    "num_words = 1000\n",
    "vectorize_layer = tf.keras.layers.TextVectorization(\n",
    " max_tokens=num_words,\n",
    " standardize=\"lower_and_strip_punctuation\",\n",
    " split=\"whitespace\",\n",
    " output_mode='multi_hot',\n",
    " pad_to_max_tokens=True)\n",
    "\n",
    "vectorize_layer.adapt(X_train)"
   ]
  },
  {
   "cell_type": "code",
   "execution_count": 11,
   "metadata": {
    "id": "seuFLH2lNiDT"
   },
   "outputs": [],
   "source": [
    "X_train = vectorize_layer(X_train)\n",
    "X_valid = vectorize_layer(X_valid)\n",
    "X_test  = vectorize_layer(X_test)"
   ]
  },
  {
   "cell_type": "markdown",
   "metadata": {
    "id": "jGUg8TexZMNf"
   },
   "source": [
    "### Define the model:\n",
    "\n",
    "Let's build a Sequential model (`keras.models.Sequential`) and add four layers to it by calling its `add()` method:\n",
    "\n",
    "\n",
    "*   a input layer (`tf.keras.Input`) that is the first layer in your model. With this layer you should specify the `input_shape` argument, leaving out the batch size: `(num_words,)`;\n",
    "*  a Dense layer (`keras.layers.Dense`) with 16 neurons, and the \"relu\" activation function;\n",
    "* another Dense layer with 16 neurons, also with the \"relu\" activation function;\n",
    "* a final Dense layer with 4 output neurons, and with the \"softmax\" activation (since we considering a classification task with four classes)."
   ]
  },
  {
   "cell_type": "code",
   "execution_count": 12,
   "metadata": {
    "id": "OaoEISyaZL56"
   },
   "outputs": [],
   "source": [
    "model = keras.models.Sequential()\n",
    "model.add(tf.keras.Input(shape=(num_words,)))\n",
    "model.add(keras.layers.Dense(16, activation=\"relu\"))\n",
    "model.add(keras.layers.Dense(16, activation=\"relu\"))\n",
    "model.add(keras.layers.Dense(4, activation=\"softmax\"))"
   ]
  },
  {
   "cell_type": "markdown",
   "metadata": {
    "id": "fYfxUOQVZljh"
   },
   "source": [
    "Let's call the model's `summary()` method to check if the model has been built correctly. Also, I will try using `keras.utils.plot_model()` to save an image of our model's architecture."
   ]
  },
  {
   "cell_type": "code",
   "execution_count": 13,
   "metadata": {
    "id": "IpGkQl5dZoWq"
   },
   "outputs": [
    {
     "name": "stdout",
     "output_type": "stream",
     "text": [
      "Model: \"sequential_1\"\n",
      "_________________________________________________________________\n",
      " Layer (type)                Output Shape              Param #   \n",
      "=================================================================\n",
      " dense (Dense)               (None, 16)                16016     \n",
      "                                                                 \n",
      " dense_1 (Dense)             (None, 16)                272       \n",
      "                                                                 \n",
      " dense_2 (Dense)             (None, 4)                 68        \n",
      "                                                                 \n",
      "=================================================================\n",
      "Total params: 16,356\n",
      "Trainable params: 16,356\n",
      "Non-trainable params: 0\n",
      "_________________________________________________________________\n"
     ]
    }
   ],
   "source": [
    "model.summary()"
   ]
  },
  {
   "cell_type": "code",
   "execution_count": 14,
   "metadata": {
    "id": "b1NbkrXRZwOA"
   },
   "outputs": [
    {
     "data": {
      "image/png": "[encoded data removed]",
      "text/plain": [
       "<IPython.core.display.Image object>"
      ]
     },
     "execution_count": 14,
     "metadata": {},
     "output_type": "execute_result"
    }
   ],
   "source": [
    "keras.utils.plot_model(model, \"my_model.png\", show_shapes=True)"
   ]
  },
  {
   "cell_type": "markdown",
   "metadata": {
    "id": "Mc3xzuA-33WH"
   },
   "source": [
    "As you can see, the first dimension of each layer is not defined (`None`), indeed this dimension in each layer is variable and depends on the batch size."
   ]
  },
  {
   "cell_type": "markdown",
   "metadata": {
    "id": "6FAjFixuHSA_"
   },
   "source": [
    "Instaed of using `add()` method it is also possibile to define the model using the following syntax"
   ]
  },
  {
   "cell_type": "code",
   "execution_count": 15,
   "metadata": {
    "id": "yOhr57M9GPHy"
   },
   "outputs": [
    {
     "name": "stdout",
     "output_type": "stream",
     "text": [
      "Model: \"sequential_2\"\n",
      "_________________________________________________________________\n",
      " Layer (type)                Output Shape              Param #   \n",
      "=================================================================\n",
      " dense_3 (Dense)             (None, 16)                16016     \n",
      "                                                                 \n",
      " dense_4 (Dense)             (None, 16)                272       \n",
      "                                                                 \n",
      " dense_5 (Dense)             (None, 4)                 68        \n",
      "                                                                 \n",
      "=================================================================\n",
      "Total params: 16,356\n",
      "Trainable params: 16,356\n",
      "Non-trainable params: 0\n",
      "_________________________________________________________________\n"
     ]
    },
    {
     "data": {
      "image/png": "[encoded data removed]",
      "text/plain": [
       "<IPython.core.display.Image object>"
      ]
     },
     "execution_count": 15,
     "metadata": {},
     "output_type": "execute_result"
    }
   ],
   "source": [
    "model = keras.models.Sequential([\n",
    "    tf.keras.Input(shape=(num_words,)),\n",
    "    keras.layers.Dense(16, activation=\"relu\"),\n",
    "    keras.layers.Dense(16, activation=\"relu\"),\n",
    "    keras.layers.Dense(4, activation=\"softmax\")\n",
    "])\n",
    "model.summary()\n",
    "keras.utils.plot_model(model, \"my_model.png\", show_shapes=True)"
   ]
  },
  {
   "cell_type": "markdown",
   "metadata": {
    "id": "2ySdJmzxaSuz"
   },
   "source": [
    "### Optimize the model:\n",
    "\n",
    "After the model has been created, you must call its `compile()` method to specify the loss function and the optimizer to use.\n",
    "\n",
    "Since the model performs a classification task, and we have labels encoded as integers, we use the sparse categorical cross-entropy loss. As optimizer we use Adam.\n",
    "\n",
    "Moreover, you can optionally specify a list of additional metrics that should be measured during training. In this case we specify `metrics=[\"accuracy\"]`."
   ]
  },
  {
   "cell_type": "code",
   "execution_count": 16,
   "metadata": {
    "id": "x3bbsY3uaeh5"
   },
   "outputs": [],
   "source": [
    "model.compile(loss=\"sparse_categorical_crossentropy\",\n",
    "              optimizer=keras.optimizers.Adam(learning_rate=1e-4),\n",
    "              metrics=[\"accuracy\"])"
   ]
  },
  {
   "cell_type": "markdown",
   "metadata": {
    "id": "NB9SV0MpaeTg"
   },
   "source": [
    "Now our model is ready to be trained. Call its `fit()` method, passing to it the input features (`X_train`) and the target classes (`y_train`). Set the number of epochs to 20. \n",
    "In order to validate our model we will also pass the validation data by setting `validation_data=(X_valid, y_valid)`. Keras will compute the loss and the additional metrics (the accuracy in this case) on the validation set at the end of each epoch. If the loss on the training set is much lower than the one on the validation set, your model is probably overfitting the training set. Note: the `fit()` method will return a `History` object containing training stats."
   ]
  },
  {
   "cell_type": "code",
   "execution_count": 17,
   "metadata": {
    "id": "5whx-LU3aoKn"
   },
   "outputs": [
    {
     "name": "stdout",
     "output_type": "stream",
     "text": [
      "Epoch 1/20\n",
      "3375/3375 [==============================] - 8s 2ms/step - loss: 0.8503 - accuracy: 0.6761 - val_loss: 0.5107 - val_accuracy: 0.8314\n",
      "Epoch 2/20\n",
      "3375/3375 [==============================] - 8s 2ms/step - loss: 0.4583 - accuracy: 0.8449 - val_loss: 0.4452 - val_accuracy: 0.8475\n",
      "Epoch 3/20\n",
      "3375/3375 [==============================] - 7s 2ms/step - loss: 0.4222 - accuracy: 0.8546 - val_loss: 0.4318 - val_accuracy: 0.8507\n",
      "Epoch 4/20\n",
      "3375/3375 [==============================] - 6s 2ms/step - loss: 0.4089 - accuracy: 0.8573 - val_loss: 0.4241 - val_accuracy: 0.8509\n",
      "Epoch 5/20\n",
      "3375/3375 [==============================] - 7s 2ms/step - loss: 0.4012 - accuracy: 0.8590 - val_loss: 0.4210 - val_accuracy: 0.8525\n",
      "Epoch 6/20\n",
      "3375/3375 [==============================] - 6s 2ms/step - loss: 0.3959 - accuracy: 0.8601 - val_loss: 0.4175 - val_accuracy: 0.8531\n",
      "Epoch 7/20\n",
      "3375/3375 [==============================] - 7s 2ms/step - loss: 0.3917 - accuracy: 0.8615 - val_loss: 0.4149 - val_accuracy: 0.8535\n",
      "Epoch 8/20\n",
      "3375/3375 [==============================] - 7s 2ms/step - loss: 0.3882 - accuracy: 0.8617 - val_loss: 0.4132 - val_accuracy: 0.8550\n",
      "Epoch 9/20\n",
      "3375/3375 [==============================] - 7s 2ms/step - loss: 0.3851 - accuracy: 0.8627 - val_loss: 0.4109 - val_accuracy: 0.8540\n",
      "Epoch 10/20\n",
      "3375/3375 [==============================] - 6s 2ms/step - loss: 0.3825 - accuracy: 0.8629 - val_loss: 0.4096 - val_accuracy: 0.8534\n",
      "Epoch 11/20\n",
      "3375/3375 [==============================] - 7s 2ms/step - loss: 0.3799 - accuracy: 0.8637 - val_loss: 0.4081 - val_accuracy: 0.8539\n",
      "Epoch 12/20\n",
      "3375/3375 [==============================] - 6s 2ms/step - loss: 0.3775 - accuracy: 0.8638 - val_loss: 0.4064 - val_accuracy: 0.8543\n",
      "Epoch 13/20\n",
      "3375/3375 [==============================] - 6s 2ms/step - loss: 0.3753 - accuracy: 0.8645 - val_loss: 0.4051 - val_accuracy: 0.8538\n",
      "Epoch 14/20\n",
      "3375/3375 [==============================] - 6s 2ms/step - loss: 0.3731 - accuracy: 0.8649 - val_loss: 0.4053 - val_accuracy: 0.8543\n",
      "Epoch 15/20\n",
      "3375/3375 [==============================] - 6s 2ms/step - loss: 0.3709 - accuracy: 0.8660 - val_loss: 0.4035 - val_accuracy: 0.8553\n",
      "Epoch 16/20\n",
      "3375/3375 [==============================] - 6s 2ms/step - loss: 0.3689 - accuracy: 0.8661 - val_loss: 0.4027 - val_accuracy: 0.8553\n",
      "Epoch 17/20\n",
      "3375/3375 [==============================] - 6s 2ms/step - loss: 0.3669 - accuracy: 0.8668 - val_loss: 0.4011 - val_accuracy: 0.8564\n",
      "Epoch 18/20\n",
      "3375/3375 [==============================] - 6s 2ms/step - loss: 0.3649 - accuracy: 0.8672 - val_loss: 0.4003 - val_accuracy: 0.8555\n",
      "Epoch 19/20\n",
      "3375/3375 [==============================] - 6s 2ms/step - loss: 0.3630 - accuracy: 0.8680 - val_loss: 0.3992 - val_accuracy: 0.8562\n",
      "Epoch 20/20\n",
      "3375/3375 [==============================] - 7s 2ms/step - loss: 0.3612 - accuracy: 0.8684 - val_loss: 0.3993 - val_accuracy: 0.8563\n"
     ]
    }
   ],
   "source": [
    "history = model.fit(X_train, y_train, epochs=20,\n",
    "                    validation_data=(X_valid, y_valid))"
   ]
  },
  {
   "cell_type": "markdown",
   "metadata": {
    "id": "EPxiw8iCADr-"
   },
   "source": [
    "Let's plot the loss and the accuracy trends on both training and validation sets. We define the `plot_learning_acc_and_loss` function because we will reuse it in the next steps."
   ]
  },
  {
   "cell_type": "code",
   "execution_count": 18,
   "metadata": {
    "id": "AJg-F7mUa7st"
   },
   "outputs": [
    {
     "data": {
      "image/png": "[encoded data removed]",
      "text/plain": [
       "<Figure size 576x360 with 1 Axes>"
      ]
     },
     "metadata": {
      "needs_background": "light"
     },
     "output_type": "display_data"
    }
   ],
   "source": [
    "def plot_learning_acc_and_loss(history):\n",
    "    pd.DataFrame(history.history).plot(figsize=(8, 5))\n",
    "    plt.grid(True)\n",
    "    plt.show()\n",
    "plot_learning_acc_and_loss(history)"
   ]
  },
  {
   "cell_type": "markdown",
   "metadata": {
    "id": "9O3-sLmxansJ"
   },
   "source": [
    "### Evaluate the model:\n",
    "\n",
    "Now, our model has been optimized on the training set, and as you can see the performance on the validation set in quite similar (so it does not overfit the training data). Let's now evaluate the performance of our model using the test set."
   ]
  },
  {
   "cell_type": "code",
   "execution_count": 19,
   "metadata": {
    "id": "q-ZvJEcObdyB"
   },
   "outputs": [
    {
     "name": "stdout",
     "output_type": "stream",
     "text": [
      "238/238 [==============================] - 1s 2ms/step - loss: 0.4093 - accuracy: 0.8518\n"
     ]
    },
    {
     "data": {
      "text/plain": [
       "[0.40928736329078674, 0.8518421053886414]"
      ]
     },
     "execution_count": 19,
     "metadata": {},
     "output_type": "execute_result"
    }
   ],
   "source": [
    "model.evaluate(X_test, y_test)"
   ]
  },
  {
   "cell_type": "markdown",
   "metadata": {
    "id": "KTSxlnwrII-n"
   },
   "source": [
    "**Explain why it is important to use test and validation, and why it is important to evaluate the model on the test set instead of the validation set. Finally, explain what is the usefulness of the validation set. Insert the discussion in this cell.**\n",
    "\n",
    "EXPLANATION:\n",
    "\n",
    "During the Test Phase, the purpose is to see how our final model is going to deal in the next datasets, so in this situation if its performance is very poor we should repeat the whole process starting from the Training Phase.\n",
    "\n",
    "A validation dataset is a sample of data held back from training your model that is used to give an estimate of model skill while tuning model’s hyperparameters.\n",
    "\n",
    "Ideally, the model should be evaluated on samples that were not used to build or fine-tune the model, so that they provide an unbiased sense of model effectiveness. When a large amount of data is at hand, a set of samples can be set aside to evaluate the final model. The “training” data set is the general term for the samples used to create the model, while the “test” or “validation” data set is used to qualify performance.\n",
    "— Max Kuhn and Kjell Johnson, Page 67, Applied Predictive Modeling, 2013\n",
    "\n",
    "If the test set is locked away, but you still want to measure performance on unseen data as a way of selecting a good hypothesis, then divide the available data (without the test set) into a training set and a validation set.\n",
    "— Stuart Russell and Peter Norvig, page 709, Artificial Intelligence: A Modern Approach, 2009 (3rd edition)\n",
    "\n",
    "For the above reasons, it would be to our advantage to use the validation set."
   ]
  },
  {
   "cell_type": "markdown",
   "metadata": {
    "id": "aeGlzKe864Gq"
   },
   "source": [
    "## Exercise 2: Overfiting\n",
    "\n",
    "A common problem that occurs when you train a deep neural network is overfittig. Overfitting occurs when you achieve a good fit of your model on the training data, while it does not generalize well on new, unseen data. In other words, the model learned patterns specific to the training data, which are irrelevant in other data.\n",
    "As we have seen in the previous exercise, our model does not overfit the training data. In this exercise, we try to modify the training parameters in order to have a model that overfits.\n",
    "Overfitting can have many causes and usually is a combination of some of them, for instance: too many parameters/ layers, too few training samples, wrong learning rate (usualy too high), etc..\n",
    "\n",
    "In the next cell define a new model (similar to the previuos one) that overfits the training data; then plot the trend of the loss in training and validation set."
   ]
  },
  {
   "cell_type": "code",
   "execution_count": 20,
   "metadata": {
    "id": "T2B2DFEC8f88"
   },
   "outputs": [
    {
     "name": "stdout",
     "output_type": "stream",
     "text": [
      "Epoch 1/15\n",
      "3375/3375 [==============================] - 9s 3ms/step - loss: 0.4690 - accuracy: 0.8302 - val_loss: 0.4119 - val_accuracy: 0.8509\n",
      "Epoch 2/15\n",
      "3375/3375 [==============================] - 8s 2ms/step - loss: 0.3921 - accuracy: 0.8567 - val_loss: 0.4035 - val_accuracy: 0.8531\n",
      "Epoch 3/15\n",
      "3375/3375 [==============================] - 8s 2ms/step - loss: 0.3700 - accuracy: 0.8652 - val_loss: 0.3951 - val_accuracy: 0.8544\n",
      "Epoch 4/15\n",
      "3375/3375 [==============================] - 8s 2ms/step - loss: 0.3524 - accuracy: 0.8706 - val_loss: 0.3960 - val_accuracy: 0.8550\n",
      "Epoch 5/15\n",
      "3375/3375 [==============================] - 7s 2ms/step - loss: 0.3360 - accuracy: 0.8777 - val_loss: 0.3926 - val_accuracy: 0.8581\n",
      "Epoch 6/15\n",
      "3375/3375 [==============================] - 7s 2ms/step - loss: 0.3212 - accuracy: 0.8821 - val_loss: 0.3974 - val_accuracy: 0.8584\n",
      "Epoch 7/15\n",
      "3375/3375 [==============================] - 9s 3ms/step - loss: 0.3078 - accuracy: 0.8869 - val_loss: 0.4107 - val_accuracy: 0.8543\n",
      "Epoch 8/15\n",
      "3375/3375 [==============================] - 8s 2ms/step - loss: 0.2961 - accuracy: 0.8919 - val_loss: 0.4084 - val_accuracy: 0.8587\n",
      "Epoch 9/15\n",
      "3375/3375 [==============================] - 8s 2ms/step - loss: 0.2852 - accuracy: 0.8965 - val_loss: 0.4174 - val_accuracy: 0.8535\n",
      "Epoch 10/15\n",
      "3375/3375 [==============================] - 8s 2ms/step - loss: 0.2764 - accuracy: 0.8992 - val_loss: 0.4231 - val_accuracy: 0.8545\n",
      "Epoch 11/15\n",
      "3375/3375 [==============================] - 8s 2ms/step - loss: 0.2679 - accuracy: 0.9024 - val_loss: 0.4282 - val_accuracy: 0.8544\n",
      "Epoch 12/15\n",
      "3375/3375 [==============================] - 8s 2ms/step - loss: 0.2596 - accuracy: 0.9060 - val_loss: 0.4377 - val_accuracy: 0.8547\n",
      "Epoch 13/15\n",
      "3375/3375 [==============================] - 8s 2ms/step - loss: 0.2521 - accuracy: 0.9088 - val_loss: 0.4474 - val_accuracy: 0.8501\n",
      "Epoch 14/15\n",
      "3375/3375 [==============================] - 8s 2ms/step - loss: 0.2451 - accuracy: 0.9111 - val_loss: 0.4560 - val_accuracy: 0.8529\n",
      "Epoch 15/15\n",
      "3375/3375 [==============================] - 7s 2ms/step - loss: 0.2395 - accuracy: 0.9134 - val_loss: 0.4642 - val_accuracy: 0.8528\n",
      "Model Evaluation\n",
      "238/238 [==============================] - 1s 2ms/step - loss: 0.4771 - accuracy: 0.8496\n"
     ]
    },
    {
     "data": {
      "text/plain": [
       "[0.4771483540534973, 0.8496052622795105]"
      ]
     },
     "execution_count": 20,
     "metadata": {},
     "output_type": "execute_result"
    }
   ],
   "source": [
    "model = keras.models.Sequential()\n",
    "\n",
    "model.add(tf.keras.Input(shape=(num_words,)))\n",
    "model.add(keras.layers.Dense(24, activation=\"relu\"))\n",
    "model.add(keras.layers.Dense(24, activation=\"relu\"))\n",
    "model.add(keras.layers.Dense(4, activation=\"softmax\"))\n",
    "\n",
    "\n",
    "model.compile(loss=\"sparse_categorical_crossentropy\",\n",
    "              optimizer=keras.optimizers.Adam(learning_rate=1e-3),\n",
    "              metrics=[\"accuracy\"])\n",
    "\n",
    "history = model.fit(X_train, y_train, epochs = 15,\n",
    "                    validation_data=(X_valid, y_valid))\n",
    "\n",
    "print(\"Model Evaluation\")\n",
    "model.evaluate(X_test, y_test)\n",
    "\n",
    "#Well adding more layers/neurons increases the chance of over-fitting. \n",
    "#Therefore it would be better if you decrease the learning rate over time. \n",
    "#Removing the subsampling layers also increases the number of parameters and again the chance to over-fit."
   ]
  },
  {
   "cell_type": "markdown",
   "metadata": {
    "id": "MS0fujEqh_m3"
   },
   "source": [
    "Define the `plot_learning_curves` function that plots only the losses (not the accuracy)."
   ]
  },
  {
   "cell_type": "code",
   "execution_count": 15,
   "metadata": {
    "id": "q5EsklC0DZYH"
   },
   "outputs": [
    {
     "data": {
      "image/png": "[encoded data removed]",
      "text/plain": [
       "<Figure size 576x360 with 1 Axes>"
      ]
     },
     "metadata": {
      "needs_background": "light"
     },
     "output_type": "display_data"
    }
   ],
   "source": [
    "def plot_learning_curves(history):\n",
    "    plt.figure(figsize=(8, 5))\n",
    "    plt.plot(history.epoch,history.history['loss'], label='train loss')\n",
    "    plt.plot(history.epoch,history.history['val_loss'], label='valid loss')\n",
    "    plt.legend()\n",
    "    plt.title('loss')\n",
    "    plt.grid(True)\n",
    "    plt.show()\n",
    "plot_learning_curves(history)"
   ]
  },
  {
   "cell_type": "markdown",
   "metadata": {
    "id": "OW4Kf4fgDfOs"
   },
   "source": [
    "### L1 norm\n",
    "\n",
    "One possible way to solve the overitting issue is by using regularization methods. The two most common regularization methods in Deep Learning are the L1-norm regularization and the L2-norm regularization. Both These techniques are based on limiting the capacity of models, by adding a parameter norm penalty to the objective function $\\mathcal{J}$:\n",
    "$$\n",
    "\\hat{\\mathcal{J}}(\\theta,\\mathbf{X},\\mathbf{y}) = \\mathcal{J}(\\theta,\\mathbf{X},\\mathbf{y}) + \\alpha \\Omega(\\theta)\n",
    "$$\n",
    "where $\\alpha$ is a hyperparameter that weighs the relative contribution of the norm penalty $\\Omega$.\n",
    "Lets start by considering the L1-norm regularization where the regularization term is defined as:\n",
    "$$\n",
    " \\Omega(\\theta)=||\\mathbf{W}||_1=\\sum_i |\\mathbf{w}|\n",
    "$$\n",
    "Let's find the values for the $\\alpha$ parameters that allow to remove the overfitting effect."
   ]
  },
  {
   "cell_type": "code",
   "execution_count": 6,
   "metadata": {
    "id": "QzD8520dDgw3"
   },
   "outputs": [
    {
     "ename": "NameError",
     "evalue": "name 'num_words' is not defined",
     "output_type": "error",
     "traceback": [
      "\u001b[1;31m---------------------------------------------------------------------------\u001b[0m",
      "\u001b[1;31mNameError\u001b[0m                                 Traceback (most recent call last)",
      "\u001b[1;32mc:\\Users\\Acer\\Documents\\GitHub\\Deep-Learning\\Project 4 - Optimize and Train Deep Models\\Classification.ipynb Cell 33\u001b[0m in \u001b[0;36m<cell line: 17>\u001b[1;34m()\u001b[0m\n\u001b[0;32m      <a href='vscode-notebook-cell:/c%3A/Users/Acer/Documents/GitHub/Deep-Learning/Project%204%20-%20Optimize%20and%20Train%20Deep%20Models/Classification.ipynb#X44sZmlsZQ%3D%3D?line=0'>1</a>\u001b[0m \u001b[39m#In Keras is neccesary to add the regularizer by using the attribute kernel_regularizer\u001b[39;00m\n\u001b[0;32m      <a href='vscode-notebook-cell:/c%3A/Users/Acer/Documents/GitHub/Deep-Learning/Project%204%20-%20Optimize%20and%20Train%20Deep%20Models/Classification.ipynb#X44sZmlsZQ%3D%3D?line=1'>2</a>\u001b[0m \u001b[39m#to each layer whose weights will be considered in the Omega function.\u001b[39;00m\n\u001b[0;32m      <a href='vscode-notebook-cell:/c%3A/Users/Acer/Documents/GitHub/Deep-Learning/Project%204%20-%20Optimize%20and%20Train%20Deep%20Models/Classification.ipynb#X44sZmlsZQ%3D%3D?line=2'>3</a>\u001b[0m \u001b[39m#is it also possibile to consider the bias by using the attribute bias_regularizer \u001b[39;00m\n\u001b[1;32m   (...)\u001b[0m\n\u001b[0;32m     <a href='vscode-notebook-cell:/c%3A/Users/Acer/Documents/GitHub/Deep-Learning/Project%204%20-%20Optimize%20and%20Train%20Deep%20Models/Classification.ipynb#X44sZmlsZQ%3D%3D?line=12'>13</a>\u001b[0m \n\u001b[0;32m     <a href='vscode-notebook-cell:/c%3A/Users/Acer/Documents/GitHub/Deep-Learning/Project%204%20-%20Optimize%20and%20Train%20Deep%20Models/Classification.ipynb#X44sZmlsZQ%3D%3D?line=13'>14</a>\u001b[0m \u001b[39m#model.add(keras.layers.Dense(units=[TO COMPLETE], activation=[TO COMPLETE], kernel_regularizer=tf.keras.regularizers.l1([TO COMPLETE]))) \u001b[39;00m\n\u001b[0;32m     <a href='vscode-notebook-cell:/c%3A/Users/Acer/Documents/GitHub/Deep-Learning/Project%204%20-%20Optimize%20and%20Train%20Deep%20Models/Classification.ipynb#X44sZmlsZQ%3D%3D?line=15'>16</a>\u001b[0m model \u001b[39m=\u001b[39m keras\u001b[39m.\u001b[39mmodels\u001b[39m.\u001b[39mSequential()\n\u001b[1;32m---> <a href='vscode-notebook-cell:/c%3A/Users/Acer/Documents/GitHub/Deep-Learning/Project%204%20-%20Optimize%20and%20Train%20Deep%20Models/Classification.ipynb#X44sZmlsZQ%3D%3D?line=16'>17</a>\u001b[0m model\u001b[39m.\u001b[39madd(tf\u001b[39m.\u001b[39mkeras\u001b[39m.\u001b[39mInput(shape\u001b[39m=\u001b[39m(num_words,)))\n\u001b[0;32m     <a href='vscode-notebook-cell:/c%3A/Users/Acer/Documents/GitHub/Deep-Learning/Project%204%20-%20Optimize%20and%20Train%20Deep%20Models/Classification.ipynb#X44sZmlsZQ%3D%3D?line=17'>18</a>\u001b[0m model\u001b[39m.\u001b[39madd(keras\u001b[39m.\u001b[39mlayers\u001b[39m.\u001b[39mDense(\u001b[39m24\u001b[39m, activation\u001b[39m=\u001b[39m\u001b[39m\"\u001b[39m\u001b[39mrelu\u001b[39m\u001b[39m\"\u001b[39m))\n\u001b[0;32m     <a href='vscode-notebook-cell:/c%3A/Users/Acer/Documents/GitHub/Deep-Learning/Project%204%20-%20Optimize%20and%20Train%20Deep%20Models/Classification.ipynb#X44sZmlsZQ%3D%3D?line=18'>19</a>\u001b[0m model\u001b[39m.\u001b[39madd(keras\u001b[39m.\u001b[39mlayers\u001b[39m.\u001b[39mDense(\u001b[39m24\u001b[39m, activation\u001b[39m=\u001b[39m\u001b[39m\"\u001b[39m\u001b[39mrelu\u001b[39m\u001b[39m\"\u001b[39m))\n",
      "\u001b[1;31mNameError\u001b[0m: name 'num_words' is not defined"
     ]
    }
   ],
   "source": [
    "#In Keras is neccesary to add the regularizer by using the attribute kernel_regularizer\n",
    "#to each layer whose weights will be considered in the Omega function.\n",
    "#is it also possibile to consider the bias by using the attribute bias_regularizer \n",
    "#tf.keras.regularizers.l1(alpha) perfroms the L1-norm regularization\n",
    "\n",
    "#Copy the model that you previously defined that overfits the \n",
    "#training data, and add the L1-norm regularization. Use a proper value for the\n",
    "#alpha hyper-parameter, that prevents the model from overfitting. The results  \n",
    "#reached by the model in terms of loss and accuracy (in all data sets) should be\n",
    "#comparable with the ones obtained by the initial model defined in Exercise 2.1 \n",
    "\n",
    "#In general, a layer that exploits L1-norm regularization is defined as follows:\n",
    "\n",
    "#model.add(keras.layers.Dense(units=[TO COMPLETE], activation=[TO COMPLETE], kernel_regularizer=tf.keras.regularizers.l1([TO COMPLETE]))) \n",
    "\n",
    "model = keras.models.Sequential()\n",
    "model.add(tf.keras.Input(shape=(num_words,)))\n",
    "model.add(keras.layers.Dense(24, activation=\"relu\"))\n",
    "model.add(keras.layers.Dense(24, activation=\"relu\"))\n",
    "model.add(keras.layers.Dense(units=16, activation=\"relu\", kernel_regularizer=tf.keras.regularizers.l1(1e-4)))\n",
    "model.add(keras.layers.Dense(4, activation=\"softmax\"))\n",
    "\n",
    "\n",
    "\n",
    "model.compile(loss=\"sparse_categorical_crossentropy\",\n",
    "              optimizer=keras.optimizers.Adam(learning_rate=1e-4),\n",
    "              metrics=[\"accuracy\"])\n",
    "\n",
    "history = model.fit(X_train, y_train, epochs=20,\n",
    "                    validation_data=(X_valid, y_valid))\n",
    "\n",
    "print(\"Model Evaluation\")\n",
    "model.evaluate(X_test, y_test)\n",
    "plot_learning_curves(history)"
   ]
  },
  {
   "cell_type": "markdown",
   "metadata": {
    "id": "CgnCGYUvDqbC"
   },
   "source": [
    "### L2-norm\n",
    "\n",
    "L2-norm regularization is also known as weight decay. This strategy drives the weights closer to the origin by adding the regularization term omega which is defined as:\n",
    "$$\n",
    " \\Omega(\\theta)=\\frac{1}{2}||\\mathbf{W}||_2^2\n",
    "$$\n",
    "\n",
    "Let's find the values for the $\\alpha$ parameters that allow removing remove the overfitting effect with L2-norm."
   ]
  },
  {
   "cell_type": "code",
   "execution_count": 17,
   "metadata": {
    "id": "qqNhu350DtJo"
   },
   "outputs": [
    {
     "name": "stdout",
     "output_type": "stream",
     "text": [
      "Epoch 1/20\n",
      "3375/3375 [==============================] - 4s 1ms/step - loss: 0.7200 - accuracy: 0.7294 - val_loss: 0.4698 - val_accuracy: 0.8393\n",
      "Epoch 2/20\n",
      "3375/3375 [==============================] - 4s 1ms/step - loss: 0.4347 - accuracy: 0.8476 - val_loss: 0.4353 - val_accuracy: 0.8497\n",
      "Epoch 3/20\n",
      "3375/3375 [==============================] - 4s 1ms/step - loss: 0.4096 - accuracy: 0.8555 - val_loss: 0.4265 - val_accuracy: 0.8506\n",
      "Epoch 4/20\n",
      "3375/3375 [==============================] - 4s 1ms/step - loss: 0.3985 - accuracy: 0.8592 - val_loss: 0.4191 - val_accuracy: 0.8538\n",
      "Epoch 5/20\n",
      "3375/3375 [==============================] - 4s 1ms/step - loss: 0.3916 - accuracy: 0.8612 - val_loss: 0.4169 - val_accuracy: 0.8543\n",
      "Epoch 6/20\n",
      "3375/3375 [==============================] - 4s 1ms/step - loss: 0.3862 - accuracy: 0.8628 - val_loss: 0.4150 - val_accuracy: 0.8535\n",
      "Epoch 7/20\n",
      "3375/3375 [==============================] - 4s 1ms/step - loss: 0.3814 - accuracy: 0.8643 - val_loss: 0.4133 - val_accuracy: 0.8537\n",
      "Epoch 8/20\n",
      "3375/3375 [==============================] - 4s 1ms/step - loss: 0.3772 - accuracy: 0.8655 - val_loss: 0.4107 - val_accuracy: 0.8546\n",
      "Epoch 9/20\n",
      "3375/3375 [==============================] - 4s 1ms/step - loss: 0.3729 - accuracy: 0.8669 - val_loss: 0.4091 - val_accuracy: 0.8550\n",
      "Epoch 10/20\n",
      "3375/3375 [==============================] - 4s 1ms/step - loss: 0.3690 - accuracy: 0.8677 - val_loss: 0.4089 - val_accuracy: 0.8528\n",
      "Epoch 11/20\n",
      "3375/3375 [==============================] - 4s 1ms/step - loss: 0.3649 - accuracy: 0.8691 - val_loss: 0.4071 - val_accuracy: 0.8546\n",
      "Epoch 12/20\n",
      "3375/3375 [==============================] - 4s 1ms/step - loss: 0.3609 - accuracy: 0.8699 - val_loss: 0.4055 - val_accuracy: 0.8549\n",
      "Epoch 13/20\n",
      "3375/3375 [==============================] - 4s 1ms/step - loss: 0.3571 - accuracy: 0.8712 - val_loss: 0.4051 - val_accuracy: 0.8538\n",
      "Epoch 14/20\n",
      "3375/3375 [==============================] - 4s 1ms/step - loss: 0.3531 - accuracy: 0.8727 - val_loss: 0.4059 - val_accuracy: 0.8553\n",
      "Epoch 15/20\n",
      "3375/3375 [==============================] - 4s 1ms/step - loss: 0.3492 - accuracy: 0.8739 - val_loss: 0.4044 - val_accuracy: 0.8541\n",
      "Epoch 16/20\n",
      "3375/3375 [==============================] - 4s 1ms/step - loss: 0.3455 - accuracy: 0.8756 - val_loss: 0.4037 - val_accuracy: 0.8559\n",
      "Epoch 17/20\n",
      "3375/3375 [==============================] - 4s 1ms/step - loss: 0.3420 - accuracy: 0.8766 - val_loss: 0.4049 - val_accuracy: 0.8550\n",
      "Epoch 18/20\n",
      "3375/3375 [==============================] - 4s 1ms/step - loss: 0.3385 - accuracy: 0.8782 - val_loss: 0.4042 - val_accuracy: 0.8558\n",
      "Epoch 19/20\n",
      "3375/3375 [==============================] - 4s 1ms/step - loss: 0.3351 - accuracy: 0.8792 - val_loss: 0.4034 - val_accuracy: 0.8558\n",
      "Epoch 20/20\n",
      "3375/3375 [==============================] - 4s 1ms/step - loss: 0.3317 - accuracy: 0.8803 - val_loss: 0.4071 - val_accuracy: 0.8538\n",
      "Model Evaluation\n",
      "238/238 [==============================] - 0s 2ms/step - loss: 0.4140 - accuracy: 0.8509\n"
     ]
    },
    {
     "data": {
      "image/png": "[encoded data removed]",
      "text/plain": [
       "<Figure size 576x360 with 1 Axes>"
      ]
     },
     "metadata": {
      "needs_background": "light"
     },
     "output_type": "display_data"
    }
   ],
   "source": [
    "#Insert the model that you previously defined that overfit the \n",
    "#trainig data, and add the L2-norm regularization. Use proper values for the\n",
    "#alpha hyper-parameters, that prevents the model from overfitting. The results  \n",
    "#reached by the model in terms of loss and accuracy (in all data sets) should be\n",
    "#comparable with the ones obtained by the initial model defined in Exercise 1\n",
    "\n",
    "#In general, a layer that exploits L2-norm regularization is defined as follow:\n",
    "\n",
    "#model.add(keras.layers.Dense(units=[TO COMPLETE], activation=[TO COMPLETE],kernel_regularizer=tf.keras.regularizers.l2([TO COMPLETE]))) \n",
    "\n",
    "model = keras.models.Sequential()\n",
    "\n",
    "model.add(tf.keras.Input(shape=(num_words,)))\n",
    "model.add(keras.layers.Dense(24, activation=\"relu\"))\n",
    "model.add(keras.layers.Dense(24, activation=\"relu\"))\n",
    "model.add(keras.layers.Dense(units=24, activation=\"relu\", kernel_regularizer=tf.keras.regularizers.l2(1e-4)))\n",
    "model.add(keras.layers.Dense(4, activation=\"softmax\"))\n",
    "\n",
    "model.compile(loss=\"sparse_categorical_crossentropy\",\n",
    "              optimizer=keras.optimizers.Adam(learning_rate=1e-4),\n",
    "              metrics=[\"accuracy\"])\n",
    "\n",
    "history = model.fit(X_train, y_train, epochs=20,\n",
    "                    validation_data=(X_valid, y_valid))\n",
    "\n",
    "print(\"Model Evaluation\")\n",
    "model.evaluate(X_test, y_test)\n",
    "plot_learning_curves(history)"
   ]
  },
  {
   "cell_type": "markdown",
   "metadata": {
    "id": "xvyKPb4DD25G"
   },
   "source": [
    "### Early stopping\n",
    "\n",
    "Early Stopping is a form of regularization used to avoid overfitting. It is designed to monitor the generalization error of one model and stop training when generalization error begins to degrade. In order to evaluate the generalization error, early stopping requires that a validation dataset is evaluated during training. Then, when the validation error does not improve for a specific number of epochs (`patience` hyper-parameter), it stops the training phase."
   ]
  },
  {
   "cell_type": "code",
   "execution_count": 27,
   "metadata": {
    "id": "MqNOOZ11D7cq"
   },
   "outputs": [
    {
     "name": "stdout",
     "output_type": "stream",
     "text": [
      "Epoch 1/15\n",
      "3375/3375 [==============================] - 6s 1ms/step - loss: 0.7447 - accuracy: 0.7428 - val_loss: 0.4779 - val_accuracy: 0.8372\n",
      "Epoch 2/15\n",
      "3375/3375 [==============================] - 4s 1ms/step - loss: 0.4374 - accuracy: 0.8476 - val_loss: 0.4340 - val_accuracy: 0.8491\n",
      "Epoch 3/15\n",
      "3375/3375 [==============================] - 4s 1ms/step - loss: 0.4096 - accuracy: 0.8553 - val_loss: 0.4234 - val_accuracy: 0.8518\n",
      "Epoch 4/15\n",
      "3375/3375 [==============================] - 4s 1ms/step - loss: 0.3984 - accuracy: 0.8582 - val_loss: 0.4161 - val_accuracy: 0.8522\n",
      "Epoch 5/15\n",
      "3375/3375 [==============================] - 4s 1ms/step - loss: 0.3918 - accuracy: 0.8595 - val_loss: 0.4138 - val_accuracy: 0.8534\n",
      "Epoch 6/15\n",
      "3375/3375 [==============================] - 4s 1ms/step - loss: 0.3870 - accuracy: 0.8613 - val_loss: 0.4111 - val_accuracy: 0.8531\n",
      "Epoch 7/15\n",
      "3375/3375 [==============================] - 4s 1ms/step - loss: 0.3830 - accuracy: 0.8626 - val_loss: 0.4088 - val_accuracy: 0.8543\n",
      "Epoch 8/15\n",
      "3375/3375 [==============================] - 4s 1ms/step - loss: 0.3793 - accuracy: 0.8633 - val_loss: 0.4071 - val_accuracy: 0.8552\n",
      "Epoch 9/15\n",
      "3375/3375 [==============================] - 4s 1ms/step - loss: 0.3759 - accuracy: 0.8644 - val_loss: 0.4047 - val_accuracy: 0.8543\n",
      "Epoch 10/15\n",
      "3375/3375 [==============================] - 4s 1ms/step - loss: 0.3728 - accuracy: 0.8650 - val_loss: 0.4039 - val_accuracy: 0.8547\n",
      "Epoch 11/15\n",
      "3375/3375 [==============================] - 4s 1ms/step - loss: 0.3697 - accuracy: 0.8660 - val_loss: 0.4021 - val_accuracy: 0.8542\n",
      "Epoch 12/15\n",
      "3375/3375 [==============================] - 4s 1ms/step - loss: 0.3667 - accuracy: 0.8664 - val_loss: 0.4005 - val_accuracy: 0.8547\n",
      "Epoch 13/15\n",
      "3375/3375 [==============================] - 4s 1ms/step - loss: 0.3637 - accuracy: 0.8677 - val_loss: 0.3993 - val_accuracy: 0.8557\n",
      "Epoch 14/15\n",
      "3375/3375 [==============================] - 4s 1ms/step - loss: 0.3608 - accuracy: 0.8683 - val_loss: 0.4001 - val_accuracy: 0.8554\n",
      "Model Evaluation\n",
      "238/238 [==============================] - 0s 1ms/step - loss: 0.4092 - accuracy: 0.8489\n"
     ]
    },
    {
     "data": {
      "image/png": "[encoded data removed]",
      "text/plain": [
       "<Figure size 576x360 with 1 Axes>"
      ]
     },
     "metadata": {
      "needs_background": "light"
     },
     "output_type": "display_data"
    }
   ],
   "source": [
    "#[TO COMPLETE] insert the model that you previously defined that overfit the \n",
    "#trainnig data\n",
    "model = keras.models.Sequential()\n",
    "\n",
    "model.add(tf.keras.Input(shape=(num_words,)))\n",
    "model.add(keras.layers.Dense(24, activation=\"relu\"))\n",
    "model.add(keras.layers.Dense(24, activation=\"relu\"))\n",
    "model.add(keras.layers.Dense(4, activation=\"softmax\"))\n",
    "\n",
    "\n",
    "model.compile(loss=\"sparse_categorical_crossentropy\",\n",
    "              optimizer=keras.optimizers.Adam(learning_rate=1e-4),\n",
    "\n",
    "              metrics=[\"accuracy\"])\n",
    "\n",
    "#Let's define a log dir in order to save the checkpoint file\n",
    "logdir = os.path.join(os.curdir, \"my_logs\", \"run_{}\".format(time.time()))\n",
    "\n",
    "#In Keras the early stopping is manage by using the callbacks argument.\n",
    "callbacks = [\n",
    "    keras.callbacks.TensorBoard(logdir),\n",
    "    keras.callbacks.EarlyStopping(patience=1),\n",
    "\n",
    "\n",
    "    #Saving the checkpoints file allows to load the \"best\" model when the Early \n",
    "    #stopping detect that the generalization error degrade (after 'patience' epochs)\n",
    "    keras.callbacks.ModelCheckpoint(\"my_mnist_model.h5\", save_best_only=True),\n",
    "]\n",
    "\n",
    "history = model.fit(X_train, y_train, epochs=15,\n",
    "                    validation_data=(X_valid, y_valid),\n",
    "                    callbacks=callbacks)\n",
    "\n",
    "print(\"Model Evaluation\")\n",
    "#The early stopping stopped training after few epochs without progress, so your\n",
    "#model may already have started to overfit the training set. Since the \n",
    "#ModelCheckpoint callback only saved the best models (on the validation set) the\n",
    "#last saved model is the best on the validation set.\n",
    "model = keras.models.load_model(\"my_mnist_model.h5\")\n",
    "model.evaluate(X_test, y_test)\n",
    "plot_learning_curves(history)"
   ]
  },
  {
   "cell_type": "markdown",
   "metadata": {
    "id": "DCV8pwVzl9GK"
   },
   "source": [
    "\n",
    "## Exercise 3: Model Selection\n",
    "\n",
    "Hyperparameters are the parameters of the learning method itself which we have to specify a priori, i.e., before model fitting. In contrast, model parameters are parameters which arise as a result of the fit (the network weights). The aim of model selection is selecting the best hyperparameters for our deep network. Finding the right hyperparameters for a model can be crucial for the model performance on given data. For istance lets consider our model trained by using different values for the learning rate: "
   ]
  },
  {
   "cell_type": "code",
   "execution_count": 19,
   "metadata": {
    "id": "Fw8Hs-AEmLKh"
   },
   "outputs": [],
   "source": [
    "learning_rates = [1e-4, 1e-2, 1e-1]"
   ]
  },
  {
   "cell_type": "code",
   "execution_count": 20,
   "metadata": {
    "id": "mym4GOgUmWqD"
   },
   "outputs": [
    {
     "name": "stdout",
     "output_type": "stream",
     "text": [
      "Epoch 1/10\n",
      "3375/3375 [==============================] - 4s 1ms/step - loss: 0.8508 - accuracy: 0.6861 - val_loss: 0.5220 - val_accuracy: 0.8260\n",
      "Epoch 2/10\n",
      "3375/3375 [==============================] - 4s 1ms/step - loss: 0.4695 - accuracy: 0.8399 - val_loss: 0.4564 - val_accuracy: 0.8437\n",
      "Epoch 3/10\n",
      "3375/3375 [==============================] - 4s 1ms/step - loss: 0.4301 - accuracy: 0.8506 - val_loss: 0.4384 - val_accuracy: 0.8475\n",
      "Epoch 4/10\n",
      "3375/3375 [==============================] - 4s 1ms/step - loss: 0.4133 - accuracy: 0.8536 - val_loss: 0.4263 - val_accuracy: 0.8508\n",
      "Epoch 5/10\n",
      "3375/3375 [==============================] - 4s 1ms/step - loss: 0.4029 - accuracy: 0.8564 - val_loss: 0.4200 - val_accuracy: 0.8522\n",
      "Epoch 6/10\n",
      "3375/3375 [==============================] - 4s 1ms/step - loss: 0.3954 - accuracy: 0.8583 - val_loss: 0.4151 - val_accuracy: 0.8528\n",
      "Epoch 7/10\n",
      "3375/3375 [==============================] - 4s 1ms/step - loss: 0.3895 - accuracy: 0.8599 - val_loss: 0.4116 - val_accuracy: 0.8535\n",
      "Epoch 8/10\n",
      "3375/3375 [==============================] - 4s 1ms/step - loss: 0.3847 - accuracy: 0.8608 - val_loss: 0.4090 - val_accuracy: 0.8542\n",
      "Epoch 9/10\n",
      "3375/3375 [==============================] - 4s 1ms/step - loss: 0.3807 - accuracy: 0.8630 - val_loss: 0.4062 - val_accuracy: 0.8534\n",
      "Epoch 10/10\n",
      "3375/3375 [==============================] - 4s 1ms/step - loss: 0.3773 - accuracy: 0.8627 - val_loss: 0.4056 - val_accuracy: 0.8547\n",
      "evaluation on test set\n",
      "238/238 [==============================] - 0s 2ms/step - loss: 0.4169 - accuracy: 0.8487\n",
      "Epoch 1/10\n",
      "3375/3375 [==============================] - 4s 1ms/step - loss: 0.4637 - accuracy: 0.8320 - val_loss: 0.4416 - val_accuracy: 0.8412\n",
      "Epoch 2/10\n",
      "3375/3375 [==============================] - 3s 1ms/step - loss: 0.4092 - accuracy: 0.8521 - val_loss: 0.4164 - val_accuracy: 0.8533\n",
      "Epoch 3/10\n",
      "3375/3375 [==============================] - 4s 1ms/step - loss: 0.3883 - accuracy: 0.8595 - val_loss: 0.4100 - val_accuracy: 0.8546\n",
      "Epoch 4/10\n",
      "3375/3375 [==============================] - 4s 1ms/step - loss: 0.3737 - accuracy: 0.8655 - val_loss: 0.4206 - val_accuracy: 0.8523\n",
      "Epoch 5/10\n",
      "3375/3375 [==============================] - 4s 1ms/step - loss: 0.3633 - accuracy: 0.8685 - val_loss: 0.4167 - val_accuracy: 0.8510\n",
      "evaluation on test set\n",
      "238/238 [==============================] - 0s 1ms/step - loss: 0.4207 - accuracy: 0.8436\n",
      "Epoch 1/10\n",
      "3375/3375 [==============================] - 4s 1ms/step - loss: 0.6645 - accuracy: 0.7724 - val_loss: 0.6580 - val_accuracy: 0.7949\n",
      "Epoch 2/10\n",
      "3375/3375 [==============================] - 4s 1ms/step - loss: 0.6373 - accuracy: 0.7819 - val_loss: 0.6007 - val_accuracy: 0.7932\n",
      "Epoch 3/10\n",
      "3375/3375 [==============================] - 4s 1ms/step - loss: 0.6509 - accuracy: 0.7788 - val_loss: 0.6711 - val_accuracy: 0.7861\n",
      "Epoch 4/10\n",
      "3375/3375 [==============================] - 3s 1ms/step - loss: 0.6609 - accuracy: 0.7678 - val_loss: 0.7945 - val_accuracy: 0.6848\n",
      "evaluation on test set\n",
      "238/238 [==============================] - 0s 2ms/step - loss: 0.7758 - accuracy: 0.6904\n"
     ]
    }
   ],
   "source": [
    "histories = []\n",
    "for learning_rate in learning_rates:\n",
    "    model = keras.models.Sequential([\n",
    "                                    tf.keras.Input(shape=(num_words,)),\n",
    "                                    keras.layers.Dense(16, activation=\"relu\"),\n",
    "                                    keras.layers.Dense(16, activation=\"relu\"),\n",
    "                                    keras.layers.Dense(4, activation=\"softmax\")\n",
    "                                     ])\n",
    "    model.compile(loss=\"sparse_categorical_crossentropy\",\n",
    "              optimizer=keras.optimizers.Adam(learning_rate=learning_rate),\n",
    "              metrics=[\"accuracy\"])\n",
    "              \n",
    "    callbacks = [keras.callbacks.EarlyStopping(patience=2)]\n",
    "\n",
    "    history = model.fit(X_train, y_train,\n",
    "                        validation_data=(X_valid, y_valid), epochs=10,\n",
    "                        callbacks=callbacks)\n",
    "    histories.append(history)\n",
    "    print(\"evaluation on test set\")\n",
    "    model.evaluate(X_test, y_test)"
   ]
  },
  {
   "cell_type": "markdown",
   "metadata": {
    "id": "RzTSjfwptkHJ"
   },
   "source": [
    "Let's plot the results"
   ]
  },
  {
   "cell_type": "code",
   "execution_count": 21,
   "metadata": {
    "id": "cIlN1vlioIYh"
   },
   "outputs": [
    {
     "name": "stdout",
     "output_type": "stream",
     "text": [
      "Learning rate: 0.0001\n"
     ]
    },
    {
     "data": {
      "image/png": "[encoded data removed]",
      "text/plain": [
       "<Figure size 576x360 with 1 Axes>"
      ]
     },
     "metadata": {
      "needs_background": "light"
     },
     "output_type": "display_data"
    },
    {
     "name": "stdout",
     "output_type": "stream",
     "text": [
      "Learning rate: 0.01\n"
     ]
    },
    {
     "data": {
      "image/png": "[encoded data removed]",
      "text/plain": [
       "<Figure size 576x360 with 1 Axes>"
      ]
     },
     "metadata": {
      "needs_background": "light"
     },
     "output_type": "display_data"
    },
    {
     "name": "stdout",
     "output_type": "stream",
     "text": [
      "Learning rate: 0.1\n"
     ]
    },
    {
     "data": {
      "image/png": "[encoded data removed]",
      "text/plain": [
       "<Figure size 576x360 with 1 Axes>"
      ]
     },
     "metadata": {
      "needs_background": "light"
     },
     "output_type": "display_data"
    }
   ],
   "source": [
    "for learning_rate, history in zip(learning_rates, histories):\n",
    "    print(\"Learning rate:\", learning_rate)\n",
    "    plot_learning_acc_and_loss(history)"
   ]
  },
  {
   "cell_type": "markdown",
   "metadata": {
    "id": "_JntujSWq3e5"
   },
   "source": [
    "### Grid Search:\n",
    "\n",
    "Since a deep net has many hyperparameters, in order to find the best ones, we have to consider all the possible combinations of all of the possible values. One common method to perform this complex task is Grid-Search.\n",
    "Given a set of values for each hyper-parameter, Grid-Search will build a model on each parameter combination possible. It iterates through every parameter combination and stores a model for each combination. Finally, the model that obtained the best result on the validation set will be select.\n",
    "\n",
    "In order to perfrom Grid-Search we will use the `GridSearchCV` class from `scikit-learn`."
   ]
  },
  {
   "cell_type": "markdown",
   "metadata": {
    "id": "CPz629YSrDhN"
   },
   "source": [
    "Let's Create a `build_model()` function that takes two arguments, `n_neurons` and `learning_rate`, and builds, compiles and returns a model with the given number of of neurons and the given learning rate.\n",
    "In order to limit the time requirements of the process we will consider only these two hyper-paramters.\n",
    "\n",
    "In the following code cell define the `build_model` function."
   ]
  },
  {
   "cell_type": "code",
   "execution_count": 22,
   "metadata": {
    "id": "oGSKWTTtqxZ4"
   },
   "outputs": [
    {
     "name": "stderr",
     "output_type": "stream",
     "text": [
      "C:\\Users\\Acer\\AppData\\Local\\Temp/ipykernel_15112/2373001470.py:24: DeprecationWarning: KerasRegressor is deprecated, use Sci-Keras (https://github.com/adriangb/scikeras) instead. See https://www.adriangb.com/scikeras/stable/migration.html for help migrating.\n",
      "  keras_reg = keras.wrappers.scikit_learn.KerasRegressor(build_model)\n"
     ]
    }
   ],
   "source": [
    "def build_model(n_units=30, learning_rate=1e-3):\n",
    "    # The function has to build a model similar to the ones we used in previuous execises:\n",
    "    #- a input layer \n",
    "    #- one or two Dense layers composed of n_units and that exploit Relu activation function \n",
    "    #- the output layer that uses the softmax activation function\n",
    "    # Then, the model has to be compiled.\n",
    "    model = keras.models.Sequential([\n",
    "                                    tf.keras.Input(shape=(num_words,)),\n",
    "                                    keras.layers.Dense(16, activation=\"relu\"),\n",
    "                                    keras.layers.Dense(16, activation=\"relu\"),\n",
    "                                    keras.layers.Dense(4, activation=\"softmax\")\n",
    "                                     ])\n",
    "    \n",
    "    # [TO COMPLETE] Then, the model has to be compiled.\n",
    "    model.compile(loss=\"sparse_categorical_crossentropy\",\n",
    "                  optimizer=keras.optimizers.Adam(learning_rate=learning_rate),\n",
    "                  metrics=[\"accuracy\"])\n",
    "    \n",
    "    return model\n",
    "\n",
    "    \n",
    "#Create a keras.wrappers.scikit_learn.KerasRegressor and pass the build_model \n",
    "#function to the constructor. This gives you a Scikit-Learn compatible predictor\n",
    "keras_reg = keras.wrappers.scikit_learn.KerasRegressor(build_model)"
   ]
  },
  {
   "cell_type": "markdown",
   "metadata": {
    "id": "PS6W3A2LxDg5"
   },
   "source": [
    "Let's define the lists of hyper-parameters' values. Also in this case, we use a very limited size lists, but in a real-world scenario a reasonable amount of possible values should be considered (try to add some values and check how much the time required to perform the Grid-Search increases)"
   ]
  },
  {
   "cell_type": "code",
   "execution_count": 23,
   "metadata": {
    "id": "y-uldCW3ru24"
   },
   "outputs": [],
   "source": [
    "param_distribs = {\n",
    "    \"n_units\": [16,24],# [TO COMPLETE] insert a list that contains few (2 or 3) reasonable value\n",
    "    \"learning_rate\": [1e-3, 1e-4] #[TO COMPLETE] insert a list that contains few (2 or 3) reasonable values\n",
    "    #Check how the time required to perform GRID search increases when increasing the number of values for each hyper-parameter.\n",
    "}"
   ]
  },
  {
   "cell_type": "markdown",
   "metadata": {
    "id": "bEiBxVYtx_sK"
   },
   "source": [
    "Use a `sklearn.model_selection.GridSearchCV` to search the hyperparameter space of your `KerasRegressor`"
   ]
  },
  {
   "cell_type": "code",
   "execution_count": 24,
   "metadata": {
    "id": "iobF2Bvdr9ER"
   },
   "outputs": [],
   "source": [
    "from sklearn.model_selection import GridSearchCV\n",
    "\n",
    "grid_search = GridSearchCV(keras_reg, param_distribs)"
   ]
  },
  {
   "cell_type": "markdown",
   "metadata": {
    "id": "LVGMcZz_yKSX"
   },
   "source": [
    "Run the Grid-Search"
   ]
  },
  {
   "cell_type": "code",
   "execution_count": 25,
   "metadata": {
    "id": "-BA3vgTjr-hw"
   },
   "outputs": [
    {
     "name": "stdout",
     "output_type": "stream",
     "text": [
      "Epoch 1/5\n",
      "2700/2700 [==============================] - 3s 1ms/step - loss: 0.5024 - accuracy: 0.8174 - val_loss: 0.4343 - val_accuracy: 0.8447\n",
      "Epoch 2/5\n",
      "2700/2700 [==============================] - 3s 1ms/step - loss: 0.4028 - accuracy: 0.8545 - val_loss: 0.4099 - val_accuracy: 0.8526\n",
      "Epoch 3/5\n",
      "2700/2700 [==============================] - 3s 1ms/step - loss: 0.3831 - accuracy: 0.8602 - val_loss: 0.4089 - val_accuracy: 0.8512\n",
      "Epoch 4/5\n",
      "2700/2700 [==============================] - 3s 1ms/step - loss: 0.3687 - accuracy: 0.8648 - val_loss: 0.4020 - val_accuracy: 0.8543\n",
      "Epoch 5/5\n",
      "2700/2700 [==============================] - 3s 1ms/step - loss: 0.3553 - accuracy: 0.8694 - val_loss: 0.4028 - val_accuracy: 0.8539\n",
      "675/675 [==============================] - 1s 953us/step - loss: 0.3892 - accuracy: 0.8586\n",
      "Epoch 1/5\n",
      "2700/2700 [==============================] - 3s 1ms/step - loss: 0.4879 - accuracy: 0.8226 - val_loss: 0.4291 - val_accuracy: 0.8465\n",
      "Epoch 2/5\n",
      "2700/2700 [==============================] - 3s 1ms/step - loss: 0.3999 - accuracy: 0.8549 - val_loss: 0.4099 - val_accuracy: 0.8527\n",
      "Epoch 3/5\n",
      "2700/2700 [==============================] - 3s 1ms/step - loss: 0.3810 - accuracy: 0.8598 - val_loss: 0.4092 - val_accuracy: 0.8520\n",
      "Epoch 4/5\n",
      "2700/2700 [==============================] - 3s 1ms/step - loss: 0.3662 - accuracy: 0.8645 - val_loss: 0.4061 - val_accuracy: 0.8537\n",
      "Epoch 5/5\n",
      "2700/2700 [==============================] - 3s 1ms/step - loss: 0.3525 - accuracy: 0.8702 - val_loss: 0.4027 - val_accuracy: 0.8553\n",
      "675/675 [==============================] - 1s 847us/step - loss: 0.3969 - accuracy: 0.8529\n",
      "Epoch 1/5\n",
      "2700/2700 [==============================] - 3s 1ms/step - loss: 0.4938 - accuracy: 0.8199 - val_loss: 0.4294 - val_accuracy: 0.8478\n",
      "Epoch 2/5\n",
      "2700/2700 [==============================] - 3s 1ms/step - loss: 0.3982 - accuracy: 0.8550 - val_loss: 0.4083 - val_accuracy: 0.8521\n",
      "Epoch 3/5\n",
      "2700/2700 [==============================] - 3s 1ms/step - loss: 0.3801 - accuracy: 0.8607 - val_loss: 0.4040 - val_accuracy: 0.8529\n",
      "Epoch 4/5\n",
      "2700/2700 [==============================] - 3s 1ms/step - loss: 0.3656 - accuracy: 0.8656 - val_loss: 0.4091 - val_accuracy: 0.8531\n",
      "Epoch 5/5\n",
      "2700/2700 [==============================] - 3s 1ms/step - loss: 0.3529 - accuracy: 0.8708 - val_loss: 0.4003 - val_accuracy: 0.8565\n",
      "675/675 [==============================] - 1s 906us/step - loss: 0.4083 - accuracy: 0.8506\n",
      "Epoch 1/5\n",
      "2700/2700 [==============================] - 3s 1ms/step - loss: 0.4941 - accuracy: 0.8199 - val_loss: 0.4194 - val_accuracy: 0.8503\n",
      "Epoch 2/5\n",
      "2700/2700 [==============================] - 3s 1ms/step - loss: 0.4017 - accuracy: 0.8530 - val_loss: 0.4067 - val_accuracy: 0.8525\n",
      "Epoch 3/5\n",
      "2700/2700 [==============================] - 3s 1ms/step - loss: 0.3837 - accuracy: 0.8584 - val_loss: 0.4016 - val_accuracy: 0.8528\n",
      "Epoch 4/5\n",
      "2700/2700 [==============================] - 3s 1ms/step - loss: 0.3685 - accuracy: 0.8633 - val_loss: 0.4026 - val_accuracy: 0.8538\n",
      "Epoch 5/5\n",
      "2700/2700 [==============================] - 3s 1ms/step - loss: 0.3558 - accuracy: 0.8680 - val_loss: 0.3976 - val_accuracy: 0.8573\n",
      "675/675 [==============================] - 1s 894us/step - loss: 0.3906 - accuracy: 0.8593\n",
      "Epoch 1/5\n",
      "2700/2700 [==============================] - 3s 1ms/step - loss: 0.4859 - accuracy: 0.8270 - val_loss: 0.4186 - val_accuracy: 0.8514\n",
      "Epoch 2/5\n",
      "2700/2700 [==============================] - 3s 1ms/step - loss: 0.3978 - accuracy: 0.8548 - val_loss: 0.4081 - val_accuracy: 0.8544\n",
      "Epoch 3/5\n",
      "2700/2700 [==============================] - 3s 1ms/step - loss: 0.3790 - accuracy: 0.8603 - val_loss: 0.4017 - val_accuracy: 0.8547\n",
      "Epoch 4/5\n",
      "2700/2700 [==============================] - 3s 1ms/step - loss: 0.3637 - accuracy: 0.8657 - val_loss: 0.4013 - val_accuracy: 0.8553\n",
      "Epoch 5/5\n",
      "2700/2700 [==============================] - 3s 1ms/step - loss: 0.3508 - accuracy: 0.8710 - val_loss: 0.4023 - val_accuracy: 0.8568\n",
      "675/675 [==============================] - 1s 925us/step - loss: 0.4080 - accuracy: 0.8538\n",
      "Epoch 1/5\n",
      "2700/2700 [==============================] - 4s 1ms/step - loss: 0.4947 - accuracy: 0.8227 - val_loss: 0.4334 - val_accuracy: 0.8458\n",
      "Epoch 2/5\n",
      "2700/2700 [==============================] - 3s 1ms/step - loss: 0.4036 - accuracy: 0.8545 - val_loss: 0.4095 - val_accuracy: 0.8523\n",
      "Epoch 3/5\n",
      "2700/2700 [==============================] - 3s 1ms/step - loss: 0.3854 - accuracy: 0.8595 - val_loss: 0.4081 - val_accuracy: 0.8549\n",
      "Epoch 4/5\n",
      "2700/2700 [==============================] - 3s 1ms/step - loss: 0.3711 - accuracy: 0.8644 - val_loss: 0.4032 - val_accuracy: 0.8559\n",
      "Epoch 5/5\n",
      "2700/2700 [==============================] - 3s 1ms/step - loss: 0.3581 - accuracy: 0.8682 - val_loss: 0.4073 - val_accuracy: 0.8548\n",
      "675/675 [==============================] - 1s 929us/step - loss: 0.3927 - accuracy: 0.8589\n",
      "Epoch 1/5\n",
      "2700/2700 [==============================] - 4s 1ms/step - loss: 0.5069 - accuracy: 0.8136 - val_loss: 0.4351 - val_accuracy: 0.8472\n",
      "Epoch 2/5\n",
      "2700/2700 [==============================] - 3s 1ms/step - loss: 0.4045 - accuracy: 0.8534 - val_loss: 0.4137 - val_accuracy: 0.8512\n",
      "Epoch 3/5\n",
      "2700/2700 [==============================] - 3s 1ms/step - loss: 0.3835 - accuracy: 0.8595 - val_loss: 0.4131 - val_accuracy: 0.8536\n",
      "Epoch 4/5\n",
      "2700/2700 [==============================] - 3s 1ms/step - loss: 0.3678 - accuracy: 0.8647 - val_loss: 0.4091 - val_accuracy: 0.8544\n",
      "Epoch 5/5\n",
      "2700/2700 [==============================] - 3s 1ms/step - loss: 0.3539 - accuracy: 0.8706 - val_loss: 0.4071 - val_accuracy: 0.8547\n",
      "675/675 [==============================] - 1s 854us/step - loss: 0.3999 - accuracy: 0.8541\n",
      "Epoch 1/5\n",
      "2700/2700 [==============================] - 4s 1ms/step - loss: 0.4979 - accuracy: 0.8215 - val_loss: 0.4372 - val_accuracy: 0.8443\n",
      "Epoch 2/5\n",
      "2700/2700 [==============================] - 3s 1ms/step - loss: 0.4115 - accuracy: 0.8523 - val_loss: 0.4182 - val_accuracy: 0.8503\n",
      "Epoch 3/5\n",
      "2700/2700 [==============================] - 3s 1ms/step - loss: 0.3939 - accuracy: 0.8567 - val_loss: 0.4103 - val_accuracy: 0.8508\n",
      "Epoch 4/5\n",
      "2700/2700 [==============================] - 3s 1ms/step - loss: 0.3774 - accuracy: 0.8618 - val_loss: 0.4061 - val_accuracy: 0.8527\n",
      "Epoch 5/5\n",
      "2700/2700 [==============================] - 3s 1ms/step - loss: 0.3624 - accuracy: 0.8671 - val_loss: 0.3990 - val_accuracy: 0.8547\n",
      "675/675 [==============================] - 0s 714us/step - loss: 0.4077 - accuracy: 0.8506\n",
      "Epoch 1/5\n",
      "2700/2700 [==============================] - 3s 1ms/step - loss: 0.4887 - accuracy: 0.8227 - val_loss: 0.4195 - val_accuracy: 0.8486\n",
      "Epoch 2/5\n",
      "2700/2700 [==============================] - 3s 1ms/step - loss: 0.4002 - accuracy: 0.8539 - val_loss: 0.4058 - val_accuracy: 0.8534\n",
      "Epoch 3/5\n",
      "2700/2700 [==============================] - 3s 1ms/step - loss: 0.3816 - accuracy: 0.8587 - val_loss: 0.4008 - val_accuracy: 0.8528\n",
      "Epoch 4/5\n",
      "2700/2700 [==============================] - 3s 1ms/step - loss: 0.3665 - accuracy: 0.8644 - val_loss: 0.3998 - val_accuracy: 0.8530\n",
      "Epoch 5/5\n",
      "2700/2700 [==============================] - 3s 1ms/step - loss: 0.3527 - accuracy: 0.8680 - val_loss: 0.3995 - val_accuracy: 0.8534\n",
      "675/675 [==============================] - 1s 935us/step - loss: 0.3910 - accuracy: 0.8588\n",
      "Epoch 1/5\n",
      "2700/2700 [==============================] - 4s 1ms/step - loss: 0.4912 - accuracy: 0.8250 - val_loss: 0.4216 - val_accuracy: 0.8506\n",
      "Epoch 2/5\n",
      "2700/2700 [==============================] - 3s 1ms/step - loss: 0.4021 - accuracy: 0.8536 - val_loss: 0.4136 - val_accuracy: 0.8491\n",
      "Epoch 3/5\n",
      "2700/2700 [==============================] - 3s 1ms/step - loss: 0.3855 - accuracy: 0.8583 - val_loss: 0.4056 - val_accuracy: 0.8524\n",
      "Epoch 4/5\n",
      "2700/2700 [==============================] - 3s 1ms/step - loss: 0.3711 - accuracy: 0.8626 - val_loss: 0.4017 - val_accuracy: 0.8534\n",
      "Epoch 5/5\n",
      "2700/2700 [==============================] - 3s 1ms/step - loss: 0.3580 - accuracy: 0.8673 - val_loss: 0.4026 - val_accuracy: 0.8533\n",
      "675/675 [==============================] - 1s 895us/step - loss: 0.4076 - accuracy: 0.8529\n",
      "Epoch 1/5\n",
      "2700/2700 [==============================] - 3s 1ms/step - loss: 0.8933 - accuracy: 0.6815 - val_loss: 0.5415 - val_accuracy: 0.8233\n"
     ]
    },
    {
     "name": "stdout",
     "output_type": "stream",
     "text": [
      "Epoch 2/5\n",
      "2700/2700 [==============================] - 3s 1ms/step - loss: 0.4816 - accuracy: 0.8377 - val_loss: 0.4578 - val_accuracy: 0.8431\n",
      "Epoch 3/5\n",
      "2700/2700 [==============================] - 3s 1ms/step - loss: 0.4331 - accuracy: 0.8503 - val_loss: 0.4373 - val_accuracy: 0.8488\n",
      "Epoch 4/5\n",
      "2700/2700 [==============================] - 3s 1ms/step - loss: 0.4151 - accuracy: 0.8550 - val_loss: 0.4272 - val_accuracy: 0.8478\n",
      "Epoch 5/5\n",
      "2700/2700 [==============================] - 3s 1ms/step - loss: 0.4052 - accuracy: 0.8572 - val_loss: 0.4223 - val_accuracy: 0.8473\n",
      "675/675 [==============================] - 1s 998us/step - loss: 0.4122 - accuracy: 0.8534\n",
      "Epoch 1/5\n",
      "2700/2700 [==============================] - 3s 1ms/step - loss: 0.8675 - accuracy: 0.6964 - val_loss: 0.5471 - val_accuracy: 0.8200\n",
      "Epoch 2/5\n",
      "2700/2700 [==============================] - 3s 1ms/step - loss: 0.4898 - accuracy: 0.8328 - val_loss: 0.4728 - val_accuracy: 0.8346\n",
      "Epoch 3/5\n",
      "2700/2700 [==============================] - 3s 1ms/step - loss: 0.4434 - accuracy: 0.8467 - val_loss: 0.4515 - val_accuracy: 0.8409\n",
      "Epoch 4/5\n",
      "2700/2700 [==============================] - 3s 1ms/step - loss: 0.4232 - accuracy: 0.8521 - val_loss: 0.4392 - val_accuracy: 0.8457\n",
      "Epoch 5/5\n",
      "2700/2700 [==============================] - 3s 1ms/step - loss: 0.4110 - accuracy: 0.8558 - val_loss: 0.4325 - val_accuracy: 0.8483\n",
      "675/675 [==============================] - 1s 968us/step - loss: 0.4227 - accuracy: 0.8512\n",
      "Epoch 1/5\n",
      "2700/2700 [==============================] - 3s 1ms/step - loss: 0.9204 - accuracy: 0.6394 - val_loss: 0.5677 - val_accuracy: 0.8097\n",
      "Epoch 2/5\n",
      "2700/2700 [==============================] - 3s 1ms/step - loss: 0.4898 - accuracy: 0.8350 - val_loss: 0.4636 - val_accuracy: 0.8400\n",
      "Epoch 3/5\n",
      "2700/2700 [==============================] - 3s 1ms/step - loss: 0.4330 - accuracy: 0.8506 - val_loss: 0.4417 - val_accuracy: 0.8479\n",
      "Epoch 4/5\n",
      "2700/2700 [==============================] - 3s 1ms/step - loss: 0.4130 - accuracy: 0.8564 - val_loss: 0.4325 - val_accuracy: 0.8497\n",
      "Epoch 5/5\n",
      "2700/2700 [==============================] - 3s 1ms/step - loss: 0.4026 - accuracy: 0.8593 - val_loss: 0.4267 - val_accuracy: 0.8508\n",
      "675/675 [==============================] - 1s 836us/step - loss: 0.4311 - accuracy: 0.8469\n",
      "Epoch 1/5\n",
      "2700/2700 [==============================] - 4s 1ms/step - loss: 0.9646 - accuracy: 0.6452 - val_loss: 0.5627 - val_accuracy: 0.8190\n",
      "Epoch 2/5\n",
      "2700/2700 [==============================] - 3s 1ms/step - loss: 0.4872 - accuracy: 0.8367 - val_loss: 0.4620 - val_accuracy: 0.8428\n",
      "Epoch 3/5\n",
      "2700/2700 [==============================] - 3s 1ms/step - loss: 0.4341 - accuracy: 0.8491 - val_loss: 0.4398 - val_accuracy: 0.8506\n",
      "Epoch 4/5\n",
      "2700/2700 [==============================] - 3s 1ms/step - loss: 0.4146 - accuracy: 0.8545 - val_loss: 0.4306 - val_accuracy: 0.8505\n",
      "Epoch 5/5\n",
      "2700/2700 [==============================] - 3s 1ms/step - loss: 0.4037 - accuracy: 0.8570 - val_loss: 0.4233 - val_accuracy: 0.8500\n",
      "675/675 [==============================] - 1s 800us/step - loss: 0.4092 - accuracy: 0.8577\n",
      "Epoch 1/5\n",
      "2700/2700 [==============================] - 3s 1ms/step - loss: 0.8727 - accuracy: 0.6880 - val_loss: 0.5283 - val_accuracy: 0.8268\n",
      "Epoch 2/5\n",
      "2700/2700 [==============================] - 3s 1ms/step - loss: 0.4690 - accuracy: 0.8403 - val_loss: 0.4576 - val_accuracy: 0.8428\n",
      "Epoch 3/5\n",
      "2700/2700 [==============================] - 3s 1ms/step - loss: 0.4278 - accuracy: 0.8518 - val_loss: 0.4403 - val_accuracy: 0.8461\n",
      "Epoch 4/5\n",
      "2700/2700 [==============================] - 3s 1ms/step - loss: 0.4118 - accuracy: 0.8564 - val_loss: 0.4323 - val_accuracy: 0.8483\n",
      "Epoch 5/5\n",
      "2700/2700 [==============================] - 3s 1ms/step - loss: 0.4030 - accuracy: 0.8583 - val_loss: 0.4282 - val_accuracy: 0.8487\n",
      "675/675 [==============================] - 1s 821us/step - loss: 0.4274 - accuracy: 0.8508\n",
      "Epoch 1/5\n",
      "2700/2700 [==============================] - 4s 1ms/step - loss: 0.8974 - accuracy: 0.6807 - val_loss: 0.5449 - val_accuracy: 0.8256\n",
      "Epoch 2/5\n",
      "2700/2700 [==============================] - 3s 1ms/step - loss: 0.4793 - accuracy: 0.8393 - val_loss: 0.4574 - val_accuracy: 0.8437\n",
      "Epoch 3/5\n",
      "2700/2700 [==============================] - 3s 1ms/step - loss: 0.4315 - accuracy: 0.8501 - val_loss: 0.4373 - val_accuracy: 0.8477\n",
      "Epoch 4/5\n",
      "2700/2700 [==============================] - 3s 1ms/step - loss: 0.4142 - accuracy: 0.8556 - val_loss: 0.4275 - val_accuracy: 0.8486\n",
      "Epoch 5/5\n",
      "2700/2700 [==============================] - 3s 1ms/step - loss: 0.4046 - accuracy: 0.8575 - val_loss: 0.4229 - val_accuracy: 0.8503\n",
      "675/675 [==============================] - 1s 833us/step - loss: 0.4104 - accuracy: 0.8541\n",
      "Epoch 1/5\n",
      "2700/2700 [==============================] - 3s 1ms/step - loss: 0.9136 - accuracy: 0.6666 - val_loss: 0.5460 - val_accuracy: 0.8217\n",
      "Epoch 2/5\n",
      "2700/2700 [==============================] - 3s 1ms/step - loss: 0.4771 - accuracy: 0.8380 - val_loss: 0.4575 - val_accuracy: 0.8422\n",
      "Epoch 3/5\n",
      "2700/2700 [==============================] - 3s 1ms/step - loss: 0.4283 - accuracy: 0.8511 - val_loss: 0.4377 - val_accuracy: 0.8478\n",
      "Epoch 4/5\n",
      "2700/2700 [==============================] - 3s 1ms/step - loss: 0.4108 - accuracy: 0.8563 - val_loss: 0.4281 - val_accuracy: 0.8502\n",
      "Epoch 5/5\n",
      "2700/2700 [==============================] - 3s 1ms/step - loss: 0.4011 - accuracy: 0.8586 - val_loss: 0.4235 - val_accuracy: 0.8519\n",
      "675/675 [==============================] - 1s 908us/step - loss: 0.4158 - accuracy: 0.8522\n",
      "Epoch 1/5\n",
      "2700/2700 [==============================] - 3s 1ms/step - loss: 0.8582 - accuracy: 0.6997 - val_loss: 0.5272 - val_accuracy: 0.8248\n",
      "Epoch 2/5\n",
      "2700/2700 [==============================] - 3s 1ms/step - loss: 0.4653 - accuracy: 0.8427 - val_loss: 0.4506 - val_accuracy: 0.8443\n",
      "Epoch 3/5\n",
      "2700/2700 [==============================] - 3s 1ms/step - loss: 0.4227 - accuracy: 0.8531 - val_loss: 0.4331 - val_accuracy: 0.8497\n",
      "Epoch 4/5\n",
      "2700/2700 [==============================] - 3s 1ms/step - loss: 0.4066 - accuracy: 0.8577 - val_loss: 0.4251 - val_accuracy: 0.8503\n",
      "Epoch 5/5\n",
      "2700/2700 [==============================] - 3s 1ms/step - loss: 0.3977 - accuracy: 0.8605 - val_loss: 0.4203 - val_accuracy: 0.8521\n",
      "675/675 [==============================] - 1s 876us/step - loss: 0.4263 - accuracy: 0.8486\n",
      "Epoch 1/5\n",
      "2700/2700 [==============================] - 4s 1ms/step - loss: 0.8488 - accuracy: 0.7013 - val_loss: 0.5197 - val_accuracy: 0.8265\n",
      "Epoch 2/5\n",
      "2700/2700 [==============================] - 3s 1ms/step - loss: 0.4682 - accuracy: 0.8403 - val_loss: 0.4518 - val_accuracy: 0.8444\n",
      "Epoch 3/5\n",
      "2700/2700 [==============================] - 3s 1ms/step - loss: 0.4279 - accuracy: 0.8502 - val_loss: 0.4351 - val_accuracy: 0.8492\n",
      "Epoch 4/5\n",
      "2700/2700 [==============================] - 3s 1ms/step - loss: 0.4126 - accuracy: 0.8550 - val_loss: 0.4280 - val_accuracy: 0.8504\n",
      "Epoch 5/5\n",
      "2700/2700 [==============================] - 3s 1ms/step - loss: 0.4041 - accuracy: 0.8574 - val_loss: 0.4225 - val_accuracy: 0.8504\n",
      "675/675 [==============================] - 1s 851us/step - loss: 0.4116 - accuracy: 0.8553\n",
      "Epoch 1/5\n",
      "2700/2700 [==============================] - 3s 1ms/step - loss: 0.8560 - accuracy: 0.7104 - val_loss: 0.5262 - val_accuracy: 0.8238\n",
      "Epoch 2/5\n",
      "2700/2700 [==============================] - 3s 1ms/step - loss: 0.4658 - accuracy: 0.8418 - val_loss: 0.4550 - val_accuracy: 0.8433\n",
      "Epoch 3/5\n",
      "2700/2700 [==============================] - 3s 1ms/step - loss: 0.4245 - accuracy: 0.8533 - val_loss: 0.4372 - val_accuracy: 0.8492\n",
      "Epoch 4/5\n",
      "2700/2700 [==============================] - 3s 1ms/step - loss: 0.4084 - accuracy: 0.8565 - val_loss: 0.4292 - val_accuracy: 0.8505\n",
      "Epoch 5/5\n",
      "2700/2700 [==============================] - 3s 1ms/step - loss: 0.3993 - accuracy: 0.8588 - val_loss: 0.4241 - val_accuracy: 0.8517\n",
      "675/675 [==============================] - 1s 878us/step - loss: 0.4225 - accuracy: 0.8494\n",
      "Epoch 1/5\n",
      "3375/3375 [==============================] - 4s 1ms/step - loss: 0.4763 - accuracy: 0.8285 - val_loss: 0.4170 - val_accuracy: 0.8521\n",
      "Epoch 2/5\n",
      "3375/3375 [==============================] - 3s 1ms/step - loss: 0.3994 - accuracy: 0.8547 - val_loss: 0.4093 - val_accuracy: 0.8534\n"
     ]
    },
    {
     "name": "stdout",
     "output_type": "stream",
     "text": [
      "Epoch 3/5\n",
      "3375/3375 [==============================] - 4s 1ms/step - loss: 0.3818 - accuracy: 0.8600 - val_loss: 0.4015 - val_accuracy: 0.8564\n",
      "Epoch 4/5\n",
      "3375/3375 [==============================] - 4s 1ms/step - loss: 0.3680 - accuracy: 0.8645 - val_loss: 0.3980 - val_accuracy: 0.8545\n",
      "Epoch 5/5\n",
      "3375/3375 [==============================] - 4s 1ms/step - loss: 0.3556 - accuracy: 0.8694 - val_loss: 0.3947 - val_accuracy: 0.8587\n"
     ]
    },
    {
     "data": {
      "text/plain": [
       "GridSearchCV(estimator=<keras.wrappers.scikit_learn.KerasRegressor object at 0x00000188806F8520>,\n",
       "             param_grid={'learning_rate': [0.001, 0.0001], 'n_units': [16, 24]})"
      ]
     },
     "execution_count": 25,
     "metadata": {},
     "output_type": "execute_result"
    }
   ],
   "source": [
    "\n",
    "grid_search.fit(X_train.numpy(), y_train.numpy(), epochs=5,#The number of epochs can be modified (check what happens by increasing it)\n",
    "                validation_data=(X_valid.numpy(), y_valid.numpy()))"
   ]
  },
  {
   "cell_type": "markdown",
   "metadata": {
    "id": "aadmkiOoyM94"
   },
   "source": [
    "Print the best hyper-parameters, and evealuate the best model on the test set."
   ]
  },
  {
   "cell_type": "code",
   "execution_count": 26,
   "metadata": {
    "id": "b0nL5OZkylNX"
   },
   "outputs": [
    {
     "name": "stdout",
     "output_type": "stream",
     "text": [
      "{'learning_rate': 0.001, 'n_units': 16}\n",
      "238/238 [==============================] - 0s 1ms/step - loss: 0.3994 - accuracy: 0.8542\n"
     ]
    },
    {
     "data": {
      "text/plain": [
       "[0.39944714307785034, 0.8542105555534363]"
      ]
     },
     "execution_count": 26,
     "metadata": {},
     "output_type": "execute_result"
    }
   ],
   "source": [
    "print(grid_search.best_params_)\n",
    "\n",
    "model = grid_search.best_estimator_.model\n",
    "model.evaluate(X_test, y_test)"
   ]
  },
  {
   "cell_type": "code",
   "execution_count": null,
   "metadata": {},
   "outputs": [],
   "source": []
  }
 ],
 "metadata": {
  "colab": {
   "collapsed_sections": [],
   "name": "HW2.ipynb",
   "provenance": []
  },
  "kernelspec": {
   "display_name": "Python 3.9.7 64-bit",
   "language": "python",
   "name": "python3"
  },
  "language_info": {
   "codemirror_mode": {
    "name": "ipython",
    "version": 3
   },
   "file_extension": ".py",
   "mimetype": "text/x-python",
   "name": "python",
   "nbconvert_exporter": "python",
   "pygments_lexer": "ipython3",
   "version": "3.9.7"
  },
  "vscode": {
   "interpreter": {
    "hash": "11938c6bc6919ae2720b4d5011047913343b08a43b18698fd82dedb0d4417594"
   }
  }
 },
 "nbformat": 4,
 "nbformat_minor": 1
}
